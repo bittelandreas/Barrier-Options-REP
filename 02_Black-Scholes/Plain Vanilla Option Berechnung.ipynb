{
 "cells": [
  {
   "cell_type": "code",
   "execution_count": 1,
   "metadata": {},
   "outputs": [],
   "source": [
    "import numpy as np  \n",
    "import pandas as pd\n",
    "from pandas import DataFrame\n",
    "import pandas_datareader as wb  \n",
    "import matplotlib.pyplot as plt\n",
    "import time\n",
    "import math\n",
    "import datetime\n",
    "from datetime import date\n",
    "from scipy.stats import norm\n",
    "from math import log, sqrt, pi, exp\n",
    "\n",
    "from brown_motion import brown_motion\n",
    "from pricing_bs import pricing_bs\n",
    "\n",
    "%matplotlib inline"
   ]
  },
  {
   "cell_type": "code",
   "execution_count": 8,
   "metadata": {},
   "outputs": [],
   "source": [
    "# Achtung, die damals berechnete Option ist bereits abgelaufen!\n",
    "\n",
    "today = date.today()    #Heutiges Datum definieren\n",
    "cp = 'c'                #Berechnungen für Call oder Put Option\n",
    "ticker = 'NOVN.SW'      #Ticker definieren\n",
    "expiry = '05-21-2021'   #Verfalldatum der Option definieren\n",
    "\n",
    "#Tagesdifferenz Heute bis Verfall\n",
    "month, day, year = map(int, expiry.split('-'))  #Datum wird in Einzelteile zerlegt\n",
    "expiry = datetime.date(year, month, day)        #Datum wird korrekt formatiert \n",
    "delta = (expiry - today)                        #Differenz zwischen heute und Verfallsdatum\n",
    "time_int = delta.days                           #Differenz wird in Tagen definiert\n",
    "iterations = 10000                              #Anzahl Simulationen"
   ]
  },
  {
   "cell_type": "code",
   "execution_count": 9,
   "metadata": {},
   "outputs": [],
   "source": [
    "def d1(S,K,T,r,sigma): #Berechnung von d1\n",
    "    return(log(S/K)+(r+sigma**2/2)*T)/(sigma*sqrt(T))\n",
    "\n",
    "def d2(S,K,T,r,sigma): #Berechnung von d2\n",
    "    return d1(S,K,T,r,sigma)-sigma*sqrt(T)"
   ]
  },
  {
   "cell_type": "code",
   "execution_count": 10,
   "metadata": {},
   "outputs": [],
   "source": [
    "#Plain Vanilla Optionen berechnen\n",
    "def bs_call(S,K,T,r,sigma): #Plain Vanilla Call Option\n",
    "    return S*norm.cdf(d1(S,K,T,r,sigma))-K*exp(-r*T)*norm.cdf(d2(S,K,T,r,sigma))\n",
    "  \n",
    "def bs_put(S,K,T,r,sigma): #Plain Vanilla Put Option\n",
    "    return K*exp(-r*T)*norm.cdf(-d2(S,K,T,r,sigma))-S*norm.cdf(-d1(S,K,T,r,sigma))"
   ]
  },
  {
   "cell_type": "code",
   "execution_count": 11,
   "metadata": {},
   "outputs": [
    {
     "name": "stdout",
     "output_type": "stream",
     "text": [
      "Der Preis für die Call Option beträgt:  0.61\n"
     ]
    }
   ],
   "source": [
    "S = 80.35\n",
    "K = 82\n",
    "sigma = 0.1557\n",
    "r = -0.000752\n",
    "T =  time_int / 365\n",
    "\n",
    "if cp == 'c':\n",
    "    print('Der Preis für die Call Option beträgt: ', round(bs_call(S, K, T, r, sigma),2))\n",
    "else:\n",
    "    print('Der Preis für die Put Option beträgt: ', round(bs_put(S, K, T, r, sigma),2))"
   ]
  },
  {
   "cell_type": "code",
   "execution_count": 13,
   "metadata": {},
   "outputs": [
    {
     "name": "stdout",
     "output_type": "stream",
     "text": [
      "Der Preis für die Call Option beträgt:  0.6\n"
     ]
    }
   ],
   "source": [
    "S0 = pricing_bs(S, sigma, T, r, 252, iterations)\n",
    "\n",
    "if cp == 'c':\n",
    "    print('Der Preis für die Call Option beträgt: ', round(bs_call(S0, K, T, r, sigma),2))\n",
    "else:\n",
    "    print('Der Preis für die Put Option beträgt: ', round(bs_put(S0, K, T, r, sigma),2))"
   ]
  }
 ],
 "metadata": {
  "kernelspec": {
   "display_name": "Python 3",
   "language": "python",
   "name": "python3"
  },
  "language_info": {
   "codemirror_mode": {
    "name": "ipython",
    "version": 3
   },
   "file_extension": ".py",
   "mimetype": "text/x-python",
   "name": "python",
   "nbconvert_exporter": "python",
   "pygments_lexer": "ipython3",
   "version": "3.8.3"
  }
 },
 "nbformat": 4,
 "nbformat_minor": 4
}
