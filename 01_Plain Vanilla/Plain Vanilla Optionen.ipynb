{
 "cells": [
  {
   "cell_type": "markdown",
   "metadata": {},
   "source": [
    "Hilpisch, 2015, S. 9f."
   ]
  },
  {
   "cell_type": "code",
   "execution_count": 119,
   "metadata": {},
   "outputs": [],
   "source": [
    "#\n",
    "# European Call Option Inner Value Plot\n",
    "# 02_MBV/inner_value_plot.py\n",
    "#\n",
    "# (c) Dr. Yves J. Hilpisch\n",
    "# Derivatives Analytics with Python\n",
    "#\n",
    "import numpy as np\n",
    "import matplotlib as mpl\n",
    "import matplotlib.pyplot as plt\n",
    "mpl.rcParams['font.family'] = 'serif'\n",
    "\n",
    "# Option Strike\n",
    "K = 8000\n",
    "# Graphical Output\n",
    "S = np.linspace(7000, 9000, 100) # index level values\n",
    "h = np.maximum(S - K, 0) # inner values of call option\n",
    "plt.figure()\n",
    "plt.plot(S, h, lw=2.5) # plot inner values at maturity\n",
    "plt.xlabel('index level $S_t$ at maturity')\n",
    "plt.ylabel('inner value of European call option')\n",
    "plt.grid(True)"
   ]
  },
  {
   "cell_type": "markdown",
   "metadata": {},
   "source": [
    "Angepasst:"
   ]
  },
  {
   "cell_type": "code",
   "execution_count": 140,
   "metadata": {},
   "outputs": [
    {
     "data": {
      "text/plain": [
       "Text(0, 0.5, 'Payoff')"
      ]
     },
     "execution_count": 140,
     "metadata": {},
     "output_type": "execute_result"
    }
   ],
   "source": [
    "import numpy as np\n",
    "import matplotlib as mpl\n",
    "import matplotlib.pyplot as plt\n",
    "\n",
    "# Strike Preis\n",
    "K = 100\n",
    "# Marktpreis\n",
    "S = np.linspace(95, 120)\n",
    "# Payoff\n",
    "h = np.maximum(S - K, 0)\n",
    "\n",
    "# Grafik\n",
    "plt.figure()\n",
    "plt.plot(S, h, lw = 2)\n",
    "plt.grid(True)\n",
    "ax.set_ylim(bottom = 20)\n",
    "plt.xlabel('Marktpreis $S$ zum Zeitpunkz T bzw. T+1')\n",
    "plt.ylabel('Payoff')"
   ]
  },
  {
   "cell_type": "code",
   "execution_count": 17,
   "metadata": {},
   "outputs": [
    {
     "data": {
      "image/png": "[encoded data removed]",
      "text/plain": [
       "<Figure size 432x288 with 1 Axes>"
      ]
     },
     "metadata": {
      "needs_background": "light"
     },
     "output_type": "display_data"
    }
   ],
   "source": [
    "#Long Call\n",
    "\n",
    "import numpy as np\n",
    "import matplotlib as mpl\n",
    "import matplotlib.pyplot as plt\n",
    "\n",
    "%matplotlib inline\n",
    "\n",
    "# Strike Preis\n",
    "K = 110\n",
    "# Marktpreis\n",
    "S = np.linspace(95, 120)\n",
    "# Payoff\n",
    "h = np.maximum(S - K, 0)\n",
    "\n",
    "# Grafik\n",
    "plt.figure()\n",
    "plt.plot(S, h, lw = 2) #label = 'Payoff')\n",
    "plt.grid(True, alpha = 0.2)\n",
    "plt.vlines(100, -1, 1, linestyles =\"dashed\", colors =\"r\")\n",
    "plt.vlines(110, -1, 1, linestyles =\"dashed\", colors =\"g\")\n",
    "plt.vlines(115, -1, 5.5, linestyles =\"dashed\", colors =\"r\")\n",
    "#plt.legend()\n",
    "#plt.title('Payoff Diagramm Long Call')\n",
    "plt.xlabel('Marktpreis $S_t$ bzw. $S_{t+1}$')\n",
    "plt.ylabel('Payoff')\n",
    "plt.axhline(y=0, color='black',linestyle='--', linewidth=1)\n",
    "#plt.legend(loc='upper left', bbox_to_anchor=(0.05, 0.8))\n",
    "plt.savefig('Long_Call.png', dpi = 1000, transparent = True)\n",
    "plt.show()"
   ]
  },
  {
   "cell_type": "code",
   "execution_count": null,
   "metadata": {},
   "outputs": [],
   "source": [
    "#Long Call\n",
    "\n",
    "import numpy as np\n",
    "import matplotlib as mpl\n",
    "import matplotlib.pyplot as plt\n",
    "\n",
    "# Strike Preis\n",
    "K = 110\n",
    "# Marktpreis\n",
    "S = np.linspace(95, 120)\n",
    "# Payoff\n",
    "h = np.maximum(S - K, 0)\n",
    "\n",
    "# Grafik\n",
    "plt.figure()\n",
    "plt.plot(S, h, lw = 2, label = 'Payoff')\n",
    "plt.grid(True, alpha = 0.2)\n",
    "plt.vlines(100, -1, 1, linestyles =\"dashed\", colors =\"r\")\n",
    "plt.vlines(110, -1, 1, linestyles =\"dashed\", colors =\"g\")\n",
    "plt.vlines(115, -1, 5.5, linestyles =\"dashed\", colors =\"r\")\n",
    "plt.legend()\n",
    "plt.title('Payoff Diagramm Long Call')\n",
    "plt.xlabel('Marktpreis $S$ zum Zeitpunkz T bzw. T+1')\n",
    "plt.axhline(y=0, color='black',linestyle='--', linewidth=1)\n",
    "plt.savefig('Long_Call_1.png', dpi = 1000, transparent = True)\n",
    "plt.ylabel('Payoff')"
   ]
  },
  {
   "cell_type": "code",
   "execution_count": 160,
   "metadata": {},
   "outputs": [
    {
     "data": {
      "text/plain": [
       "Text(0, 0.5, 'Payoff')"
      ]
     },
     "execution_count": 160,
     "metadata": {},
     "output_type": "execute_result"
    }
   ],
   "source": [
    "#Short Call\n",
    "\n",
    "import numpy as np\n",
    "import matplotlib as mpl\n",
    "import matplotlib.pyplot as plt\n",
    "\n",
    "%matplotlib qt\n",
    "\n",
    "# Strike Preis\n",
    "K = 110\n",
    "# Marktpreis\n",
    "S = np.linspace(95, 120)\n",
    "# Payoff\n",
    "h = np.minimum(K - S, 0)\n",
    "\n",
    "# Grafik\n",
    "plt.figure()\n",
    "plt.plot(S, h, lw = 2, label = 'Payoff')\n",
    "plt.grid(True, alpha = 0.2)\n",
    "plt.vlines(100, -10, 0.6, linestyles =\"dashed\", colors =\"r\")\n",
    "plt.vlines(110, -10, 0.6, linestyles =\"dashed\", colors =\"g\")\n",
    "plt.vlines(115, -10, -4.5, linestyles =\"dashed\", colors =\"r\")\n",
    "plt.legend()\n",
    "plt.title('Payoff Diagramm Short Call')\n",
    "plt.xlabel('Marktpreis $S$ zum Zeitpunkz T bzw. T+1')\n",
    "plt.ylabel('Payoff')"
   ]
  },
  {
   "cell_type": "code",
   "execution_count": 16,
   "metadata": {},
   "outputs": [
    {
     "data": {
      "image/png": "[encoded data removed]",
      "text/plain": [
       "<Figure size 432x288 with 1 Axes>"
      ]
     },
     "metadata": {
      "needs_background": "light"
     },
     "output_type": "display_data"
    }
   ],
   "source": [
    "#Short Call\n",
    "\n",
    "import numpy as np\n",
    "import matplotlib as mpl\n",
    "import matplotlib.pyplot as plt\n",
    "\n",
    "%matplotlib inline\n",
    "\n",
    "# Strike Preis\n",
    "K = 110\n",
    "# Marktpreis\n",
    "S = np.linspace(95, 120)\n",
    "# Payoff\n",
    "h = np.minimum(K - S, 0)\n",
    "\n",
    "# Grafik\n",
    "plt.figure()\n",
    "plt.plot(S, h, lw = 2) #label = 'Payoff')\n",
    "plt.grid(True, alpha = 0.2)\n",
    "plt.axhline(y=0, color='black',linestyle='--', linewidth=1)\n",
    "plt.vlines(100, -10, 0.6, linestyles =\"dashed\", colors =\"r\")\n",
    "plt.vlines(110, -10, 0.6, linestyles =\"dashed\", colors =\"g\")\n",
    "plt.vlines(115, -10, -4.5, linestyles =\"dashed\", colors =\"r\")\n",
    "#plt.title('Payoff Diagramm Short Call')\n",
    "plt.xlabel('Marktpreis $S_t$ bzw. $S_{t+1}$')\n",
    "plt.ylabel('Payoff')\n",
    "#plt.legend(loc='upper right', bbox_to_anchor=(1, 0.8))\n",
    "plt.savefig('Short_Call.png', dpi = 1000, transparent = True)\n",
    "plt.show()"
   ]
  },
  {
   "cell_type": "code",
   "execution_count": 168,
   "metadata": {},
   "outputs": [
    {
     "data": {
      "text/plain": [
       "Text(0, 0.5, 'Payoff')"
      ]
     },
     "execution_count": 168,
     "metadata": {},
     "output_type": "execute_result"
    },
    {
     "data": {
      "image/png": "[encoded data removed]",
      "text/plain": [
       "<Figure size 432x288 with 1 Axes>"
      ]
     },
     "metadata": {
      "needs_background": "light"
     },
     "output_type": "display_data"
    }
   ],
   "source": [
    "#Long Put\n",
    "\n",
    "import numpy as np\n",
    "import matplotlib as mpl\n",
    "import matplotlib.pyplot as plt\n",
    "\n",
    "%matplotlib inline\n",
    "\n",
    "# Strike Preis\n",
    "K = 110\n",
    "# Marktpreis\n",
    "S = np.linspace(95, 120)\n",
    "# Payoff\n",
    "h = np.maximum(K - S, 0)\n",
    "\n",
    "# Grafik\n",
    "plt.figure()\n",
    "plt.plot(S, h, lw = 2)\n",
    "plt.grid(True, alpha = 0.3)\n",
    "plt.vlines(100, -1, 10.5, linestyles =\"dashed\", colors =\"r\")\n",
    "plt.vlines(110, -1, 1, linestyles =\"dashed\", colors =\"g\")\n",
    "plt.vlines(115, -1, 1, linestyles =\"dashed\", colors =\"r\")\n",
    "\n",
    "plt.title('Payoff Diagramm Long Put')\n",
    "plt.xlabel('Marktpreis $S$ zum Zeitpunkz T bzw. T+1')\n",
    "plt.ylabel('Payoff')"
   ]
  },
  {
   "cell_type": "code",
   "execution_count": 169,
   "metadata": {},
   "outputs": [
    {
     "data": {
      "text/plain": [
       "Text(0, 0.5, 'Payoff')"
      ]
     },
     "execution_count": 169,
     "metadata": {},
     "output_type": "execute_result"
    }
   ],
   "source": [
    "#Long Put\n",
    "\n",
    "import numpy as np\n",
    "import matplotlib as mpl\n",
    "import matplotlib.pyplot as plt\n",
    "\n",
    "%matplotlib qt\n",
    "\n",
    "# Strike Preis\n",
    "K = 110\n",
    "# Marktpreis\n",
    "S = np.linspace(95, 120)\n",
    "# Payoff\n",
    "h = np.maximum(K - S, 0)\n",
    "\n",
    "# Grafik\n",
    "plt.figure()\n",
    "plt.plot(S, h, lw = 2)\n",
    "plt.grid(True, alpha = 0.3)\n",
    "plt.vlines(100, -1, 10.5, linestyles =\"dashed\", colors =\"r\")\n",
    "plt.vlines(110, -1, 1, linestyles =\"dashed\", colors =\"g\")\n",
    "plt.vlines(115, -1, 1, linestyles =\"dashed\", colors =\"r\")\n",
    "\n",
    "plt.title('Payoff Diagramm Long Put')\n",
    "plt.xlabel('Marktpreis $S$ zum Zeitpunkz T bzw. T+1')\n",
    "plt.ylabel('Payoff')"
   ]
  },
  {
   "cell_type": "code",
   "execution_count": 172,
   "metadata": {},
   "outputs": [
    {
     "data": {
      "text/plain": [
       "Text(0, 0.5, 'Payoff')"
      ]
     },
     "execution_count": 172,
     "metadata": {},
     "output_type": "execute_result"
    },
    {
     "data": {
      "image/png": "[encoded data removed]",
      "text/plain": [
       "<Figure size 432x288 with 1 Axes>"
      ]
     },
     "metadata": {
      "needs_background": "light"
     },
     "output_type": "display_data"
    }
   ],
   "source": [
    "#Short Put\n",
    "\n",
    "import numpy as np\n",
    "import matplotlib as mpl\n",
    "import matplotlib.pyplot as plt\n",
    "\n",
    "%matplotlib inline\n",
    "\n",
    "# Strike Preis\n",
    "K = 110\n",
    "# Marktpreis\n",
    "S = np.linspace(95, 120)\n",
    "# Payoff\n",
    "h = np.minimum(S - K, 0)\n",
    "\n",
    "# Grafik\n",
    "plt.figure()\n",
    "plt.plot(S, h, lw = 2)\n",
    "plt.grid(True, alpha = 0.3)\n",
    "plt.vlines(100, -10.5, 1, linestyles =\"dashed\", colors =\"r\")\n",
    "plt.vlines(110, -1, 1, linestyles =\"dashed\", colors =\"g\")\n",
    "plt.vlines(115, -1, 1, linestyles =\"dashed\", colors =\"r\")\n",
    "\n",
    "plt.title('Payoff Diagramm Short Put')\n",
    "plt.xlabel('Marktpreis $S$ zum Zeitpunkz T bzw. T+1')\n",
    "plt.ylabel('Payoff')"
   ]
  },
  {
   "cell_type": "code",
   "execution_count": 173,
   "metadata": {},
   "outputs": [
    {
     "data": {
      "text/plain": [
       "Text(0, 0.5, 'Payoff')"
      ]
     },
     "execution_count": 173,
     "metadata": {},
     "output_type": "execute_result"
    }
   ],
   "source": [
    "#Short Put\n",
    "\n",
    "import numpy as np\n",
    "import matplotlib as mpl\n",
    "import matplotlib.pyplot as plt\n",
    "\n",
    "%matplotlib qt\n",
    "\n",
    "# Strike Preis\n",
    "K = 110\n",
    "# Marktpreis\n",
    "S = np.linspace(95, 120)\n",
    "# Payoff\n",
    "h = np.minimum(S - K, 0)\n",
    "\n",
    "# Grafik\n",
    "plt.figure()\n",
    "plt.plot(S, h, lw = 2)\n",
    "plt.grid(True, alpha = 0.3)\n",
    "plt.vlines(100, -10.5, 1, linestyles =\"dashed\", colors =\"r\")\n",
    "plt.vlines(110, -1, 1, linestyles =\"dashed\", colors =\"g\")\n",
    "plt.vlines(115, -1, 1, linestyles =\"dashed\", colors =\"r\")\n",
    "\n",
    "plt.title('Payoff Diagramm Short Put')\n",
    "plt.xlabel('Marktpreis $S$ zum Zeitpunkz T bzw. T+1')\n",
    "plt.ylabel('Payoff')"
   ]
  },
  {
   "cell_type": "code",
   "execution_count": null,
   "metadata": {},
   "outputs": [],
   "source": []
  },
  {
   "cell_type": "code",
   "execution_count": null,
   "metadata": {},
   "outputs": [],
   "source": []
  },
  {
   "cell_type": "code",
   "execution_count": null,
   "metadata": {},
   "outputs": [],
   "source": []
  },
  {
   "cell_type": "code",
   "execution_count": null,
   "metadata": {},
   "outputs": [],
   "source": []
  },
  {
   "cell_type": "code",
   "execution_count": null,
   "metadata": {},
   "outputs": [],
   "source": []
  },
  {
   "cell_type": "markdown",
   "metadata": {},
   "source": [
    "https://blog.quantinsti.com/long-strangle-option-strategy-in-python/"
   ]
  },
  {
   "cell_type": "code",
   "execution_count": 34,
   "metadata": {},
   "outputs": [
    {
     "data": {
      "image/png": "[encoded data removed]",
      "text/plain": [
       "<Figure size 432x288 with 1 Axes>"
      ]
     },
     "metadata": {
      "needs_background": "light"
     },
     "output_type": "display_data"
    }
   ],
   "source": [
    "import numpy as np\n",
    "import matplotlib.pyplot as plt\n",
    "import seaborn\n",
    "\n",
    "# Fortis stock price \n",
    "spot_price = 138.90\n",
    "\n",
    "# Long put\n",
    "strike_price_long_put = 135\n",
    "premium_long_put = 4\n",
    "\n",
    "# Long call\n",
    "strike_price_long_call = 145 \n",
    "premium_long_call = 3.50\n",
    "\n",
    "# Stock price range at expiration of the put\n",
    "sT = np.arange(0.7*spot_price,1.3*spot_price,1)\n",
    "\n",
    "def call_payoff(sT, strike_price, premium):\n",
    "       return np.where(sT > strike_price, sT - strike_price, 0) - premium\n",
    "payoff_long_call = call_payoff(sT, strike_price_long_call, premium_long_call)\n",
    "\n",
    "# Plot\n",
    "fig, ax = plt.subplots()\n",
    "ax.spines['bottom'].set_position('zero')\n",
    "ax.plot(sT,payoff_long_call,label='Long Call',color='r')\n",
    "plt.xlabel('Stock Price')\n",
    "plt.ylabel('Profit and loss')\n",
    "plt.legend()\n",
    "plt.show()"
   ]
  },
  {
   "cell_type": "markdown",
   "metadata": {},
   "source": [
    "Angepasst"
   ]
  },
  {
   "cell_type": "code",
   "execution_count": 61,
   "metadata": {},
   "outputs": [],
   "source": [
    "import numpy as np\n",
    "import matplotlib.pyplot as plt\n",
    "import seaborn\n",
    "\n",
    "%matplotlib qt\n",
    "\n",
    "# Fortis stock price \n",
    "spot_price = 98\n",
    "\n",
    "# Strike Preis\n",
    "K = 100 \n",
    "Premium = 1.20\n",
    "\n",
    "# Stock price range at expiration of the call\n",
    "sT = 125\n",
    "\n",
    "def call_payoff(sT, K, Premium):\n",
    "       return (np.where(sT > K, sT - K, 0) - Premium)\n",
    "\n",
    "#Payoff   \n",
    "payoff = call_payoff(sT, K, Premium)\n",
    "\n",
    "# Plot\n",
    "fig, ax = plt.subplots()\n",
    "ax.spines['bottom'].set_position('zero')\n",
    "ax.plot(sT, payoff, label='Long Call',color='r')\n",
    "plt.xlabel('Marktpreis $s_T$')\n",
    "plt.ylabel('Payoff')\n",
    "plt.grid(True)\n",
    "plt.legend()\n",
    "plt.show()"
   ]
  },
  {
   "cell_type": "code",
   "execution_count": 65,
   "metadata": {},
   "outputs": [
    {
     "data": {
      "text/plain": [
       "array(25)"
      ]
     },
     "execution_count": 65,
     "metadata": {},
     "output_type": "execute_result"
    }
   ],
   "source": [
    "call_payoff(sT, K)"
   ]
  },
  {
   "cell_type": "code",
   "execution_count": 63,
   "metadata": {},
   "outputs": [],
   "source": [
    "def call_payoff(sT, K):\n",
    "       return np.where(sT > K, sT - K, 0)"
   ]
  },
  {
   "cell_type": "code",
   "execution_count": 75,
   "metadata": {},
   "outputs": [
    {
     "data": {
      "text/plain": [
       "Text(0, 0.5, 'Payoff')"
      ]
     },
     "execution_count": 75,
     "metadata": {},
     "output_type": "execute_result"
    }
   ],
   "source": [
    "import numpy as np\n",
    "import matplotlib as mpl\n",
    "import matplotlib.pyplot as plt\n",
    "\n",
    "# Strike Preis\n",
    "K = 100\n",
    "# Marktpreis\n",
    "S = np.linspace(90, 130, num = 5)\n",
    "\n",
    "# Stock price range at expiration of the call\n",
    "sT = 125\n",
    "\n",
    "Premium = 1.20\n",
    "# Payoff\n",
    "def call_payoff(sT, K, Premium):\n",
    "       return (np.where(sT > K, sT - K, 0) - Premium)\n",
    "\n",
    "#Payoff\n",
    "payoff = call_payoff(sT, K, Premium)\n",
    "\n",
    "# Grafik\n",
    "plt.figure()\n",
    "plt.plot(98, call_payoff(sT, K, Premium), lw = 2)\n",
    "plt.grid(True)\n",
    "plt.xlabel('Marktpreis $S_t$ at maturity')\n",
    "plt.ylabel('Payoff')"
   ]
  },
  {
   "cell_type": "code",
   "execution_count": 81,
   "metadata": {},
   "outputs": [
    {
     "name": "stdout",
     "output_type": "stream",
     "text": [
      "Collecting opstrat\n",
      "  Downloading opstrat-0.1.2-py3-none-any.whl (9.5 kB)\n",
      "Collecting yfinance\n",
      "  Downloading yfinance-0.1.59.tar.gz (25 kB)\n",
      "Requirement already satisfied: pandas in d:\\programs\\anaconda\\lib\\site-packages (from opstrat) (1.2.3)\n",
      "Requirement already satisfied: matplotlib in d:\\programs\\anaconda\\lib\\site-packages (from opstrat) (3.3.2)\n",
      "Requirement already satisfied: numpy in d:\\programs\\anaconda\\lib\\site-packages (from opstrat) (1.19.2)\n",
      "Requirement already satisfied: seaborn in d:\\programs\\anaconda\\lib\\site-packages (from opstrat) (0.11.0)\n",
      "Requirement already satisfied: requests>=2.20 in d:\\programs\\anaconda\\lib\\site-packages (from yfinance->opstrat) (2.24.0)\n",
      "Collecting multitasking>=0.0.7\n",
      "  Downloading multitasking-0.0.9.tar.gz (8.1 kB)\n",
      "Requirement already satisfied: lxml>=4.5.1 in d:\\programs\\anaconda\\lib\\site-packages (from yfinance->opstrat) (4.6.1)\n",
      "Requirement already satisfied: pytz>=2017.3 in d:\\programs\\anaconda\\lib\\site-packages (from pandas->opstrat) (2020.1)\n",
      "Requirement already satisfied: python-dateutil>=2.7.3 in d:\\programs\\anaconda\\lib\\site-packages (from pandas->opstrat) (2.8.1)\n",
      "Requirement already satisfied: pillow>=6.2.0 in d:\\programs\\anaconda\\lib\\site-packages (from matplotlib->opstrat) (8.0.1)\n",
      "Requirement already satisfied: pyparsing!=2.0.4,!=2.1.2,!=2.1.6,>=2.0.3 in d:\\programs\\anaconda\\lib\\site-packages (from matplotlib->opstrat) (2.4.7)\n",
      "Requirement already satisfied: certifi>=2020.06.20 in d:\\programs\\anaconda\\lib\\site-packages (from matplotlib->opstrat) (2020.6.20)\n",
      "Requirement already satisfied: cycler>=0.10 in d:\\programs\\anaconda\\lib\\site-packages (from matplotlib->opstrat) (0.10.0)\n",
      "Requirement already satisfied: kiwisolver>=1.0.1 in d:\\programs\\anaconda\\lib\\site-packages (from matplotlib->opstrat) (1.3.0)\n",
      "Requirement already satisfied: scipy>=1.0 in d:\\programs\\anaconda\\lib\\site-packages (from seaborn->opstrat) (1.5.2)\n",
      "Requirement already satisfied: chardet<4,>=3.0.2 in d:\\programs\\anaconda\\lib\\site-packages (from requests>=2.20->yfinance->opstrat) (3.0.4)\n",
      "Requirement already satisfied: idna<3,>=2.5 in d:\\programs\\anaconda\\lib\\site-packages (from requests>=2.20->yfinance->opstrat) (2.10)\n",
      "Requirement already satisfied: urllib3!=1.25.0,!=1.25.1,<1.26,>=1.21.1 in d:\\programs\\anaconda\\lib\\site-packages (from requests>=2.20->yfinance->opstrat) (1.25.11)\n",
      "Requirement already satisfied: six>=1.5 in d:\\programs\\anaconda\\lib\\site-packages (from python-dateutil>=2.7.3->pandas->opstrat) (1.15.0)\n",
      "Building wheels for collected packages: yfinance, multitasking\n",
      "  Building wheel for yfinance (setup.py): started\n",
      "  Building wheel for yfinance (setup.py): finished with status 'done'\n",
      "  Created wheel for yfinance: filename=yfinance-0.1.59-py2.py3-none-any.whl size=23447 sha256=24476c93e2c34ad383ef57c70c7043722dce68b7206f77f2c32177a2bc37bf75\n",
      "  Stored in directory: c:\\users\\andreas\\appdata\\local\\pip\\cache\\wheels\\7e\\d5\\f4\\f628965651f61ae35c2bdc73571ce1a2026e1550a336b5ad4b\n",
      "  Building wheel for multitasking (setup.py): started\n",
      "  Building wheel for multitasking (setup.py): finished with status 'done'\n",
      "  Created wheel for multitasking: filename=multitasking-0.0.9-py3-none-any.whl size=8372 sha256=8a3104c0254b7df80a385828c701ae154120463b40d1eaa2b81c3dcd3d27c119\n",
      "  Stored in directory: c:\\users\\andreas\\appdata\\local\\pip\\cache\\wheels\\57\\6d\\a3\\a39b839cc75274d2acfb1c58bfead2f726c6577fe8c4723f13\n",
      "Successfully built yfinance multitasking\n",
      "Installing collected packages: multitasking, yfinance, opstrat\n",
      "Successfully installed multitasking-0.0.9 opstrat-0.1.2 yfinance-0.1.59\n",
      "Note: you may need to restart the kernel to use updated packages.\n"
     ]
    }
   ],
   "source": [
    "pip install opstrat"
   ]
  },
  {
   "cell_type": "code",
   "execution_count": 85,
   "metadata": {},
   "outputs": [
    {
     "data": {
      "image/png": "[encoded data removed]",
      "text/plain": [
       "<Figure size 720x432 with 1 Axes>"
      ]
     },
     "metadata": {
      "needs_background": "light"
     },
     "output_type": "display_data"
    }
   ],
   "source": [
    "import opstrat as op\n",
    "\n",
    "%matplotlib inline\n",
    "\n",
    "op.single_plotter()"
   ]
  },
  {
   "cell_type": "code",
   "execution_count": 86,
   "metadata": {},
   "outputs": [
    {
     "data": {
      "image/png": "[encoded data removed]",
      "text/plain": [
       "<Figure size 720x432 with 1 Axes>"
      ]
     },
     "metadata": {
      "needs_background": "light"
     },
     "output_type": "display_data"
    }
   ],
   "source": [
    "op.single_plotter(spot=460, strike=460, op_type='p', tr_type='s', op_pr=12.5)"
   ]
  },
  {
   "cell_type": "code",
   "execution_count": 96,
   "metadata": {},
   "outputs": [
    {
     "ename": "SyntaxError",
     "evalue": "invalid character in identifier (<ipython-input-96-5695b390c7a3>, line 6)",
     "output_type": "error",
     "traceback": [
      "\u001b[1;36m  File \u001b[1;32m\"<ipython-input-96-5695b390c7a3>\"\u001b[1;36m, line \u001b[1;32m6\u001b[0m\n\u001b[1;33m    # Opion type>> 'c': call option, 'p':put option\u001b[0m\n\u001b[1;37m    ^\u001b[0m\n\u001b[1;31mSyntaxError\u001b[0m\u001b[1;31m:\u001b[0m invalid character in identifier\n"
     ]
    }
   ],
   "source": [
    "import opstrat as op\n",
    "\n",
    "#Parameters\n",
    "\n",
    "#op_type: kind {'c','p'}, default:'c'\n",
    " # Opion type>> 'c': call option, 'p':put option\n",
    "\n",
    "#spot: int, float, default: 100\n",
    " #Spot Price\n",
    "\n",
    "#spot_range: int, float, optional, default: 5\n",
    " #Range of spot variation in percentage\n",
    "\n",
    "#strike: int, float, default: 102\n",
    " #Strike Price\n",
    "\n",
    "#tr_type: kind {'b', 's'} default:'b'\n",
    " #Transaction Type>> 'b': long, 's': short\n",
    "\n",
    "#op_pr: int, float, default: 10\n",
    " #Option Price\n",
    "\n",
    "\n",
    "op.single_plotter(spot=98, strike = 100, op_type='c', tr_type='b', op_pr = 1.2)"
   ]
  },
  {
   "cell_type": "markdown",
   "metadata": {},
   "source": [
    "https://github.com/abhijith-git/opstrat/blob/main/README.md"
   ]
  },
  {
   "cell_type": "code",
   "execution_count": 117,
   "metadata": {},
   "outputs": [],
   "source": [
    "%matplotlib qt\n",
    "\n",
    "op.single_plotter(spot=100, strike = 110, op_type='c', tr_type='b', op_pr = 0)"
   ]
  },
  {
   "cell_type": "code",
   "execution_count": 116,
   "metadata": {},
   "outputs": [],
   "source": [
    "op.single_plotter(spot=80, strike = 100, op_type='c', tr_type='b', op_pr = 1)"
   ]
  },
  {
   "cell_type": "code",
   "execution_count": 118,
   "metadata": {},
   "outputs": [],
   "source": [
    "%matplotlib qt\n",
    "\n",
    "op.single_plotter(spot=100, strike = 110, op_type='c', tr_type='b', op_pr = 0)"
   ]
  },
  {
   "cell_type": "code",
   "execution_count": null,
   "metadata": {},
   "outputs": [],
   "source": []
  }
 ],
 "metadata": {
  "kernelspec": {
   "display_name": "Python 3",
   "language": "python",
   "name": "python3"
  },
  "language_info": {
   "codemirror_mode": {
    "name": "ipython",
    "version": 3
   },
   "file_extension": ".py",
   "mimetype": "text/x-python",
   "name": "python",
   "nbconvert_exporter": "python",
   "pygments_lexer": "ipython3",
   "version": "3.8.5"
  }
 },
 "nbformat": 4,
 "nbformat_minor": 4
}
