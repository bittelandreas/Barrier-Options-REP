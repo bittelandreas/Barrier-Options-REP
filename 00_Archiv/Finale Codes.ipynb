{
 "cells": [
  {
   "cell_type": "code",
   "execution_count": 1,
   "metadata": {},
   "outputs": [
    {
     "ename": "SyntaxError",
     "evalue": "invalid syntax (<ipython-input-1-79bd03266018>, line 21)",
     "output_type": "error",
     "traceback": [
      "\u001b[1;36m  File \u001b[1;32m\"<ipython-input-1-79bd03266018>\"\u001b[1;36m, line \u001b[1;32m21\u001b[0m\n\u001b[1;33m    diff = expiry-today\u001b[0m\n\u001b[1;37m    ^\u001b[0m\n\u001b[1;31mSyntaxError\u001b[0m\u001b[1;31m:\u001b[0m invalid syntax\n"
     ]
    }
   ],
   "source": [
    "#Import Libraries\n",
    "import numpy as np  \n",
    "import pandas as pd  \n",
    "import pandas_datareader as wb  \n",
    "import matplotlib.pyplot as plt\n",
    "import time\n",
    "from math import log, sqrt, pi, exp\n",
    "from pandas import DataFrame\n",
    "from scipy.stats import norm\n",
    "from datetime import datetime, date\n",
    "%matplotlib inline\n",
    "\n",
    "\n",
    "#Settings for Monte Carlo asset data, how long, and how many forecasts \n",
    "\n",
    "today = date.today()\n",
    "\n",
    "cp = input(\"Willst du einen Call (c) oder einen Put (p) berechnen?\");\n",
    "ticker = input(\"YahooFinance-Ticker: \") #NVS'\n",
    "expiry = time(input(\"Verfall (mm-dd-yyyy): \")#'04-16-2021'\n",
    "diff = expiry-today\n",
    "t_intervals = diff.days # time steps forecasted into future\n",
    "iterations = input(\"Anzahl Simulationen: \") # amount of simulations\n",
    "\n",
    "\n",
    "#Acquiring data\n",
    "\n",
    "data = pd.DataFrame()\n",
    "data[ticker] = wb.DataReader(ticker, data_source='yahoo', start= today)['Adj Close']\n",
    "\n",
    "#Preparing log returns from data\n",
    "log_returns = np.log(1 + data.pct_change())\n"
   ]
  },
  {
   "cell_type": "code",
   "execution_count": 7,
   "metadata": {},
   "outputs": [
    {
     "ename": "NameError",
     "evalue": "name 'log_returns' is not defined",
     "output_type": "error",
     "traceback": [
      "\u001b[1;31m---------------------------------------------------------------------------\u001b[0m",
      "\u001b[1;31mNameError\u001b[0m                                 Traceback (most recent call last)",
      "\u001b[1;32m<ipython-input-7-7a0743653dd6>\u001b[0m in \u001b[0;36m<module>\u001b[1;34m\u001b[0m\n\u001b[0;32m      1\u001b[0m \u001b[1;31m#Setting up drift and random component in relation to asset data\u001b[0m\u001b[1;33m\u001b[0m\u001b[1;33m\u001b[0m\u001b[1;33m\u001b[0m\u001b[0m\n\u001b[0;32m      2\u001b[0m \u001b[1;33m\u001b[0m\u001b[0m\n\u001b[1;32m----> 3\u001b[1;33m \u001b[0mu\u001b[0m \u001b[1;33m=\u001b[0m \u001b[0mlog_returns\u001b[0m\u001b[1;33m.\u001b[0m\u001b[0mmean\u001b[0m\u001b[1;33m(\u001b[0m\u001b[1;33m)\u001b[0m\u001b[1;33m\u001b[0m\u001b[1;33m\u001b[0m\u001b[0m\n\u001b[0m\u001b[0;32m      4\u001b[0m \u001b[0mvar\u001b[0m \u001b[1;33m=\u001b[0m \u001b[0mlog_returns\u001b[0m\u001b[1;33m.\u001b[0m\u001b[0mvar\u001b[0m\u001b[1;33m(\u001b[0m\u001b[1;33m)\u001b[0m\u001b[1;33m\u001b[0m\u001b[1;33m\u001b[0m\u001b[0m\n\u001b[0;32m      5\u001b[0m \u001b[0mdrift\u001b[0m \u001b[1;33m=\u001b[0m \u001b[0mu\u001b[0m \u001b[1;33m-\u001b[0m \u001b[1;33m(\u001b[0m\u001b[1;36m0.5\u001b[0m \u001b[1;33m*\u001b[0m \u001b[0mvar\u001b[0m\u001b[1;33m)\u001b[0m\u001b[1;33m\u001b[0m\u001b[1;33m\u001b[0m\u001b[0m\n",
      "\u001b[1;31mNameError\u001b[0m: name 'log_returns' is not defined"
     ]
    }
   ],
   "source": [
    "#Setting up drift and random component in relation to asset data\n",
    "\n",
    "u = log_returns.mean()\n",
    "var = log_returns.var()\n",
    "drift = u - (0.5 * var)\n",
    "stdev = log_returns.std()\n",
    "\n",
    "daily_returns = np.exp(drift.values + stdev.values * norm.ppf(np.random.rand(t_intervals, iterations)))\n",
    "#Takes last data point as startpoint point for simulation\n",
    "S0 = data.iloc[-1]\n",
    "price_list = np.zeros_like(daily_returns)\n",
    "price_list[0] = S0\n",
    "#Applies Monte Carlo simulation in asset\n",
    "for t in range(1, t_intervals):\n",
    "    price_list[t] = price_list[t - 1] * daily_returns[t]\n",
    "\n",
    "#Plot simulations\n",
    "plt.figure(figsize=(10,6))\n",
    "plt.plot(price_list);\n"
   ]
  },
  {
   "cell_type": "code",
   "execution_count": null,
   "metadata": {},
   "outputs": [],
   "source": [
    "def d1(S,K,T,r,sigma):\n",
    "    return(log(S/K)+(r+sigma**2/2)*T)/(sigma*sqrt(T))\n",
    "def d2(S,K,T,r,sigma):\n",
    "    return d1(S,K,T,r,sigma)-sigma*sqrt(T)"
   ]
  },
  {
   "cell_type": "code",
   "execution_count": null,
   "metadata": {},
   "outputs": [],
   "source": [
    "def bs_call(S,K,T,r,sigma):\n",
    "    return S*norm.cdf(d1(S,K,T,r,sigma))-K*exp(-r*T)*norm.cdf(d2(S,K,T,r,sigma))\n",
    "  \n",
    "def bs_put(S,K,T,r,sigma):\n",
    "    return K*exp(-r*T)*norm.cdf(-d2(S,K,T,r,sigma))-S*norm.cdf(-d1(S,K,T,r,sigma))"
   ]
  },
  {
   "cell_type": "code",
   "execution_count": null,
   "metadata": {},
   "outputs": [],
   "source": [
    "\n",
    "df = wb.DataReader(ticker, data_source='yahoo', start='2018-1-1')\n",
    "df = df.sort_values(by=\"Date\")\n",
    "df = df.dropna()\n",
    "df = df.assign(close_day_before=df.Close.shift(1))\n",
    "df['returns'] = ((df.Close - df.close_day_before)/df.close_day_before)\n",
    "\n",
    "S = price_list[-1].mean()\n",
    "strike_price = float(input(\"Strike: \"))\n",
    "sigma = np.sqrt(252) * df['returns'].std()\n",
    "r = -0.0028\n",
    "t = (datetime.strptime(expiry, \"%m-%d-%Y\") - datetime.utcnow()).days / 365\n",
    "\n",
    "if (cp == \"c\"):\n",
    "    print('The Option Price is: ', round(bs_call(S, strike_price, t, r, sigma),2))\n",
    "else:\n",
    "    print('The Option Price is: ', round(bs_put(S, strike_price, t, r, sigma),2))"
   ]
  }
 ],
 "metadata": {
  "kernelspec": {
   "display_name": "Python 3",
   "language": "python",
   "name": "python3"
  },
  "language_info": {
   "codemirror_mode": {
    "name": "ipython",
    "version": 3
   },
   "file_extension": ".py",
   "mimetype": "text/x-python",
   "name": "python",
   "nbconvert_exporter": "python",
   "pygments_lexer": "ipython3",
   "version": "3.8.3"
  }
 },
 "nbformat": 4,
 "nbformat_minor": 4
}
