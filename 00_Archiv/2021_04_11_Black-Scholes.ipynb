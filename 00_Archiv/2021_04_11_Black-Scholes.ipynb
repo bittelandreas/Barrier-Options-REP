{
 "cells": [
  {
   "cell_type": "code",
   "execution_count": 1,
   "metadata": {},
   "outputs": [],
   "source": [
    "from math import log, sqrt, pi, exp\n",
    "from scipy.stats import norm\n",
    "from datetime import datetime, date\n",
    "import numpy as np\n",
    "import pandas as pd\n",
    "from pandas import DataFrame\n",
    "\n",
    "#S = 87.55\n",
    "#K = 92.50\n",
    "#T = 0.011\n",
    "#r = -0.0028\n",
    "#sigma = 0.2001\n",
    "\n",
    "\n",
    "def d1(S,K,T,r,sigma):\n",
    "    return(log(S/K)+(r+sigma**2/2)*T)/(sigma*sqrt(T))\n",
    "def d2(S,K,T,r,sigma):\n",
    "    return d1(S,K,T,r,sigma)-sigma*sqrt(T)"
   ]
  },
  {
   "cell_type": "code",
   "execution_count": 96,
   "metadata": {},
   "outputs": [],
   "source": []
  },
  {
   "cell_type": "code",
   "execution_count": 118,
   "metadata": {},
   "outputs": [
    {
     "data": {
      "text/plain": [
       "-2.6116186443160703"
      ]
     },
     "execution_count": 118,
     "metadata": {},
     "output_type": "execute_result"
    }
   ],
   "source": [
    "d1(S,K,T,r,sigma)"
   ]
  },
  {
   "cell_type": "code",
   "execution_count": 119,
   "metadata": {},
   "outputs": [
    {
     "data": {
      "text/plain": [
       "-2.632605309367955"
      ]
     },
     "execution_count": 119,
     "metadata": {},
     "output_type": "execute_result"
    }
   ],
   "source": [
    "d2(S,K,T,r,sigma)"
   ]
  },
  {
   "cell_type": "code",
   "execution_count": 2,
   "metadata": {},
   "outputs": [],
   "source": [
    "def bs_call(S,K,T,r,sigma):\n",
    "    return S*norm.cdf(d1(S,K,T,r,sigma))-K*exp(-r*T)*norm.cdf(d2(S,K,T,r,sigma))\n",
    "  \n",
    "def bs_put(S,K,T,r,sigma):\n",
    "    return K*exp(-r*T)*norm.cdf(-d2(S,K,T,r,sigma))-S*norm.cdf(-d1(S,K,T,r,sigma))\n",
    "\n",
    "#K*exp(-r*T)-S+bs_call(S,K,T,r,sigma)\n",
    "#K*exp(-r*T)*norm.cdf(-d2(S,K,T,r,sigma))-S*norm.cdf(-d1(S,K,T,r,sigma))"
   ]
  },
  {
   "cell_type": "code",
   "execution_count": 13,
   "metadata": {},
   "outputs": [
    {
     "name": "stdout",
     "output_type": "stream",
     "text": [
      "Willst du einen Call (c) oder einen Put (p) berechnen?p\n",
      "YahooFinance-Ticker: NVS\n",
      "Verfall (mm-dd-yyyy): 04-16-2021\n",
      "Strike: 92.50\n",
      "The Option Price is:  4.96\n"
     ]
    }
   ],
   "source": [
    "from datetime import datetime, date\n",
    "import numpy as np\n",
    "import pandas as pd\n",
    "import pandas_datareader.data as web\n",
    "\n",
    "cp = input(\"Willst du einen Call (c) oder einen Put (p) berechnen?\");\n",
    "\n",
    "stock = input(\"YahooFinance-Ticker: \")#'NVS'\n",
    "expiry = input(\"Verfall (mm-dd-yyyy): \")#'04-16-2021'\n",
    "strike_price = float(input(\"Strike: \"))#92.50\n",
    "\n",
    "today = datetime.now()\n",
    "one_year_ago = today.replace(year=today.year-1)\n",
    "\n",
    "df = web.DataReader(stock, 'yahoo', one_year_ago, today)\n",
    "\n",
    "df = df.sort_values(by=\"Date\")\n",
    "df = df.dropna()\n",
    "df = df.assign(close_day_before=df.Close.shift(1))\n",
    "df['returns'] = ((df.Close - df.close_day_before)/df.close_day_before)\n",
    "\n",
    "sigma = np.sqrt(252) * df['returns'].std()\n",
    "uty = -0.0028\n",
    "\n",
    "#uty = web.DataReader(\n",
    "    #\"^TNX\", 'yahoo', today.replace(day=today.day-1), today)['Close'].iloc[-1]\n",
    "    \n",
    "lcp = df['Close'].iloc[-1]\n",
    "t = (datetime.strptime(expiry, \"%m-%d-%Y\") - datetime.utcnow()).days / 365\n",
    "\n",
    "if (cp == \"c\"):\n",
    "    print('The Option Price is: ', round(bs_call(lcp, strike_price, t, uty, sigma),2))\n",
    "else:\n",
    "    print('The Option Price is: ', round(bs_put(lcp, strike_price, t, uty, sigma),2))\n",
    "\n"
   ]
  },
  {
   "cell_type": "code",
   "execution_count": null,
   "metadata": {},
   "outputs": [],
   "source": []
  }
 ],
 "metadata": {
  "kernelspec": {
   "display_name": "Python 3",
   "language": "python",
   "name": "python3"
  },
  "language_info": {
   "codemirror_mode": {
    "name": "ipython",
    "version": 3
   },
   "file_extension": ".py",
   "mimetype": "text/x-python",
   "name": "python",
   "nbconvert_exporter": "python",
   "pygments_lexer": "ipython3",
   "version": "3.8.3"
  }
 },
 "nbformat": 4,
 "nbformat_minor": 4
}
