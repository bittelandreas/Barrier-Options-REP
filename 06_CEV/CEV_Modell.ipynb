{
 "cells": [
  {
   "cell_type": "code",
   "execution_count": 2,
   "metadata": {},
   "outputs": [],
   "source": [
    "import numpy as np\n",
    "\n",
    "\n",
    "class ProcessGBM:\n",
    "\n",
    "    np.random.seed(0)\n",
    "    \n",
    "    def __init__(self, mu, sigma):\n",
    "        self._mu = mu\n",
    "        self._sigma = sigma\n",
    "\n",
    "    def Simulate(self, T=0.2, dt = (0.2/252), S0=100):\n",
    "        n = round(T / dt)\n",
    "        \n",
    "        mu = self._mu\n",
    "        sigma = self._sigma\n",
    "\n",
    "        gaussian_increments = np.random.normal(size=n - 1)\n",
    "        res = np.zeros(n)\n",
    "        res[0] = S0\n",
    "        S = S0\n",
    "        sqrt_dt = dt ** 0.5\n",
    "        for i in range(n - 1):\n",
    "            S = S + S * mu * dt + sigma * \\\n",
    "                S * gaussian_increments[i] * sqrt_dt\n",
    "            res[i + 1] = S\n",
    "\n",
    "        return res\n",
    "    \n",
    "class ProcessCEV:\n",
    "    \n",
    "    np.random.seed(0)\n",
    "\n",
    "    def __init__(self, mu, sigma, gamma):\n",
    "        self._mu = mu\n",
    "        self._sigma = sigma\n",
    "        self._gamma = gamma\n",
    "\n",
    "    def Simulate(self, T=0.2, dt = (0.2/252), S0=100):\n",
    "        n = round(T / dt)\n",
    "        \n",
    "        mu = self._mu\n",
    "        sigma = self._sigma\n",
    "        gamma = self._gamma\n",
    "\n",
    "        gaussian_increments = np.random.normal(size=n - 1)\n",
    "        res = np.zeros(n)\n",
    "        res[0] = S0\n",
    "        S = S0\n",
    "        sqrt_dt = dt ** 0.5\n",
    "        for i in range(n - 1):\n",
    "            S = S + S * mu * dt + sigma * \\\n",
    "                (S ** gamma) * gaussian_increments[i] * sqrt_dt\n",
    "            res[i + 1] = S\n",
    "\n",
    "        return res"
   ]
  },
  {
   "cell_type": "code",
   "execution_count": 3,
   "metadata": {},
   "outputs": [],
   "source": [
    "S = 100\n",
    "L = 85\n",
    "K = 100\n",
    "sigma = 0.3\n",
    "r = 0.1\n",
    "T =  0.2\n",
    "dt = 0.2/252"
   ]
  },
  {
   "cell_type": "code",
   "execution_count": 33,
   "metadata": {},
   "outputs": [
    {
     "data": {
      "image/png": "[encoded data removed]",
      "text/plain": [
       "<Figure size 432x288 with 1 Axes>"
      ]
     },
     "metadata": {
      "needs_background": "light"
     },
     "output_type": "display_data"
    }
   ],
   "source": [
    "import matplotlib.pyplot as plt\n",
    "\n",
    "S = 100\n",
    "\n",
    "sigma = 0.3\n",
    "r = 0.1\n",
    "T =  0.2\n",
    "dt = 0.2/252\n",
    "\n",
    "i = 38\n",
    "\n",
    "np.random.seed(i)\n",
    "#plt.plot(ProcessCEV(r, sigma, 0.9).Simulate(T, dt), label=\"$\\gamma$ = 0.5\", color = 'orange', alpha = 0.8)\n",
    "plt.plot(ProcessCEV(r, sigma, 0.9).Simulate(T, dt), label=\".\", color = 'orange', alpha = 0)\n",
    "\n",
    "np.random.seed(i)\n",
    "#plt.plot(ProcessGBM(r, sigma).Simulate(T, dt), label = '$\\gamma$ = 1.0', color = 'blue', alpha = 0.8)\n",
    "plt.plot(ProcessGBM(r, sigma).Simulate(T, dt),label=\".\", color = 'blue', alpha = 0)\n",
    "\n",
    "\n",
    "np.random.seed(i)\n",
    "plt.plot(ProcessCEV(r, sigma, 1.1).Simulate(T, dt), label = '$\\gamma$ = 1.5', color = 'green', alpha = 0.8)\n",
    "#plt.plot(ProcessCEV(r, sigma, 1.1).Simulate(T, dt), color = 'green', alpha = 0)\n",
    "\n",
    "plt.xlabel('Time Steps $J$')\n",
    "plt.ylabel('Preis')\n",
    "\n",
    "#plt.axhline(y = 100, color = 'black', linestyle = '--', linewidth = 1)\n",
    "\n",
    "plt.legend(fancybox = True, framealpha=0)\n",
    "plt.grid(alpha = 0.2)\n",
    "#plt.savefig('CEV_alle.png', dpi = 1000, transparent = True)\n",
    "#plt.savefig('CEV_05.png', dpi = 1000, transparent = True)\n",
    "#plt.savefig('CEV_1.png', dpi = 1000, transparent = True)\n",
    "plt.savefig('CEV_15.png', dpi = 1000, transparent = True)\n",
    "\n",
    "plt.show()"
   ]
  }
 ],
 "metadata": {
  "kernelspec": {
   "display_name": "Python 3",
   "language": "python",
   "name": "python3"
  },
  "language_info": {
   "codemirror_mode": {
    "name": "ipython",
    "version": 3
   },
   "file_extension": ".py",
   "mimetype": "text/x-python",
   "name": "python",
   "nbconvert_exporter": "python",
   "pygments_lexer": "ipython3",
   "version": "3.8.3"
  }
 },
 "nbformat": 4,
 "nbformat_minor": 4
}
